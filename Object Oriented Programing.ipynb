{
 "cells": [
  {
   "cell_type": "code",
   "execution_count": null,
   "source": [
    "print(\"Hello World\")"
   ],
   "outputs": [],
   "metadata": {}
  },
  {
   "cell_type": "code",
   "execution_count": null,
   "source": [
    "import builtins\r\n",
    "dir(builtins)"
   ],
   "outputs": [],
   "metadata": {}
  },
  {
   "cell_type": "code",
   "execution_count": null,
   "source": [
    "import math\r\n",
    "math.pi"
   ],
   "outputs": [],
   "metadata": {}
  },
  {
   "cell_type": "code",
   "execution_count": null,
   "source": [
    "math.pow(2,3)"
   ],
   "outputs": [],
   "metadata": {}
  },
  {
   "cell_type": "code",
   "execution_count": null,
   "source": [
    "math.sqrt(25)"
   ],
   "outputs": [],
   "metadata": {}
  },
  {
   "cell_type": "code",
   "execution_count": null,
   "source": [
    "math.floor(5.2)"
   ],
   "outputs": [],
   "metadata": {}
  },
  {
   "cell_type": "code",
   "execution_count": null,
   "source": [
    "math.ceil(5.2)"
   ],
   "outputs": [],
   "metadata": {}
  },
  {
   "cell_type": "code",
   "execution_count": null,
   "source": [
    "import datetime\r\n",
    "today = datetime.date.today()\r\n",
    "print(today)"
   ],
   "outputs": [],
   "metadata": {}
  },
  {
   "cell_type": "code",
   "execution_count": null,
   "source": [
    "today = datetime.datetime.today()\r\n",
    "today"
   ],
   "outputs": [],
   "metadata": {}
  },
  {
   "cell_type": "code",
   "execution_count": null,
   "source": [
    "import webbrowser\r\n",
    "url = \"https://websitedeveloperfor.com/\"\r\n",
    "webbrowser.open(url)"
   ],
   "outputs": [],
   "metadata": {}
  },
  {
   "cell_type": "code",
   "execution_count": null,
   "source": [
    "def find_fib(n):\r\n",
    "    if n <= 2:\r\n",
    "        return 1\r\n",
    "    fib_x = 1\r\n",
    "    fib_next = 1\r\n",
    "\r\n",
    "    i = 3\r\n",
    "    while i <= n:\r\n",
    "        i += 1\r\n",
    "        fib_x, fib_next = fib_next, fib_x + fib_next\r\n",
    "        return fib_next\r\n",
    "    for x in range(1,11):\r\n",
    "        print(find_fib(10))"
   ],
   "outputs": [],
   "metadata": {}
  },
  {
   "cell_type": "code",
   "execution_count": null,
   "source": [
    "def find_fib(n):\r\n",
    "    if n <=2:\r\n",
    "        return 1\r\n",
    "    fib_x, fib_next = 1, 1\r\n",
    "\r\n",
    "    i = 3\r\n",
    "    while i <= n:\r\n",
    "        i += 1\r\n",
    "        fib_x, fib_next = fib_next, fib_x + fib_next\r\n",
    "    return fib_next\r\n",
    "\r\n",
    "def list_fib(n):\r\n",
    "    fib_list = [1,1]\r\n",
    "    if n <= 2:\r\n",
    "        return fib_list[:n]\r\n",
    "    \r\n",
    "    fib_x, fib_next = 1, 1\r\n",
    "    i=3\r\n",
    "    while i <= n:\r\n",
    "        i += 1\r\n",
    "        fib_x, fib_next = fib_next, fib_x + fib_next\r\n",
    "        fib_list.append(fib_next)\r\n",
    "    return fib_list\r\n",
    "\r\n",
    "for x in range(1,11):\r\n",
    "    print(find_fib(x))\r\n",
    "    print(list_fib(1))\r\n",
    "    print(list_fib(2))\r\n",
    "    print(list_fib(10))"
   ],
   "outputs": [],
   "metadata": {}
  },
  {
   "cell_type": "code",
   "execution_count": 3,
   "source": [
    "car =\t{\r\n",
    "  \"brand\": \"Ford\",\r\n",
    "  \"model\": \"Mustang\",\r\n",
    "  \"year\": 1964\r\n",
    "}\r\n",
    "car[\"color\"] = \"red\"\r\n",
    "car"
   ],
   "outputs": [
    {
     "output_type": "execute_result",
     "data": {
      "text/plain": [
       "{'brand': 'Ford', 'model': 'Mustang', 'year': 1964, 'color': 'red'}"
      ]
     },
     "metadata": {},
     "execution_count": 3
    }
   ],
   "metadata": {}
  },
  {
   "cell_type": "code",
   "execution_count": 9,
   "source": [
    "a = 50\r\n",
    "b = 10\r\n",
    "\r\n",
    "if a > b:\r\n",
    "    print(\"Bajro is a good boy\")\r\n",
    "else:\r\n",
    "    print(\"bajro is a boder lada\")"
   ],
   "outputs": [
    {
     "output_type": "stream",
     "name": "stdout",
     "text": [
      "Bajro is a good boy\n"
     ]
    }
   ],
   "metadata": {}
  }
 ],
 "metadata": {
  "orig_nbformat": 4,
  "language_info": {
   "name": "python",
   "version": "3.9.5",
   "mimetype": "text/x-python",
   "codemirror_mode": {
    "name": "ipython",
    "version": 3
   },
   "pygments_lexer": "ipython3",
   "nbconvert_exporter": "python",
   "file_extension": ".py"
  },
  "kernelspec": {
   "name": "python3",
   "display_name": "Python 3.9.5 64-bit"
  },
  "interpreter": {
   "hash": "8eb4c9acf7a25b0e80bae40ec03666a154f5b7367984aed3a4ed6f85d7d601bd"
  }
 },
 "nbformat": 4,
 "nbformat_minor": 2
}