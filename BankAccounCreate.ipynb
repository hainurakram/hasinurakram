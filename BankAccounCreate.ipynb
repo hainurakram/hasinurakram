{
 "cells": [
  {
   "cell_type": "markdown",
   "source": [
    "# Online Banking\r\n",
    "## Features:\r\n",
    "#### 1. Account Creation\r\n",
    "#### 2. Update Account Information\r\n",
    "#### 3. Transaction: Deposit, Withdraw, Cheking Records, Transfer, Cheking balance\r\n",
    "#### 4. Account Closing\r\n",
    "#### 5. Card Apply: Green, Debit, Credit Card(pin length 4)\r\n",
    "#### 6. Pin Change"
   ],
   "metadata": {}
  },
  {
   "cell_type": "code",
   "execution_count": null,
   "source": [
    "user = {\r\n",
    "    'name' : \" \",\r\n",
    "    'balance' : 0,\r\n",
    "    'mobilenum' : 0,\r\n",
    "    'branchcode' : 0,\r\n",
    "    'bank_id' : \" \"\r\n",
    "}\r\n",
    "    \r\n",
    "def create_cus():\r\n",
    "    name = input(\"Enter your name :\")\r\n",
    "    user['name'] = name\r\n",
    "    mobilenum = int(input(\"Enter your mobile no. :\"))\r\n",
    "    user['mobilenum'] = mobilenum\r\n",
    "    branchcode = int(input(\"Enter the branch code :\"))\r\n",
    "    user['branchcode'] = branchcode\r\n",
    "    bank_id = input(\"Enter the bank id :\")\r\n",
    "    user['bank_id'] = bank_id\r\n",
    "\r\n",
    "def withdraw_money():\r\n",
    "    withdraw = int(input(\"How much money you want to withdraw?\"))\r\n",
    "    if withdraw >= user['balance']:\r\n",
    "        print(\"Sorry, you do not have sufficient balance.\")\r\n",
    "    elif withdraw == 0:\r\n",
    "        print(\"Please enter the amount to withdraw\")\r\n",
    "    else:\r\n",
    "        user['balance'] = user['balance'] - withdraw\r\n",
    "        print(f\"You have withdrawn {withdraw} taka\\n Your current balance is {user['balance']} taka\")\r\n",
    "        print(\" \")\r\n",
    "def deposit_money():\r\n",
    "    depst = int(input(\"Enter the amount you want to deposit\"))\r\n",
    "    user['balance'] = user ['balance'] + depst\r\n",
    "    print(f\"You have deposited{depst} taka\\n Your current balance is {user['balance']} taka \")\r\n",
    "    print(\" \")"
   ],
   "outputs": [],
   "metadata": {}
  }
 ],
 "metadata": {
  "orig_nbformat": 4,
  "language_info": {
   "name": "python",
   "version": "3.9.5",
   "mimetype": "text/x-python",
   "codemirror_mode": {
    "name": "ipython",
    "version": 3
   },
   "pygments_lexer": "ipython3",
   "nbconvert_exporter": "python",
   "file_extension": ".py"
  },
  "kernelspec": {
   "name": "python3",
   "display_name": "Python 3.9.5 64-bit"
  },
  "interpreter": {
   "hash": "8eb4c9acf7a25b0e80bae40ec03666a154f5b7367984aed3a4ed6f85d7d601bd"
  }
 },
 "nbformat": 4,
 "nbformat_minor": 2
}