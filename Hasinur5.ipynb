{
 "cells": [
  {
   "cell_type": "markdown",
   "source": [
    "# Function"
   ],
   "metadata": {}
  },
  {
   "cell_type": "code",
   "execution_count": 17,
   "source": [
    "def Sumaya():\r\n",
    "    print(\"Welcome Bajro!\")"
   ],
   "outputs": [],
   "metadata": {}
  },
  {
   "cell_type": "code",
   "execution_count": 18,
   "source": [
    "Sumaya()"
   ],
   "outputs": [
    {
     "output_type": "stream",
     "name": "stdout",
     "text": [
      "Welcome Bajro!\n"
     ]
    }
   ],
   "metadata": {}
  },
  {
   "cell_type": "code",
   "execution_count": 19,
   "source": [
    "def Welcome(name):\r\n",
    "    print(\"Welcome \"+name)"
   ],
   "outputs": [],
   "metadata": {}
  },
  {
   "cell_type": "code",
   "execution_count": 20,
   "source": [
    "Welcome(\"Sumaya\")"
   ],
   "outputs": [
    {
     "output_type": "stream",
     "name": "stdout",
     "text": [
      "Welcome Sumaya\n"
     ]
    }
   ],
   "metadata": {}
  },
  {
   "cell_type": "code",
   "execution_count": 21,
   "source": [
    "def Bajro(Jobothobo):\r\n",
    "    print(\"Boder lada\",Jobothobo)\r\n",
    "    \r\n"
   ],
   "outputs": [],
   "metadata": {}
  },
  {
   "cell_type": "code",
   "execution_count": 22,
   "source": [
    "Bajro(\"Bajroshakti no 1\")"
   ],
   "outputs": [
    {
     "output_type": "stream",
     "name": "stdout",
     "text": [
      "Boder lada Bajroshakti no 1\n"
     ]
    }
   ],
   "metadata": {}
  },
  {
   "cell_type": "code",
   "execution_count": 25,
   "source": [
    "def Welcome(name, age, profession):\r\n",
    "    print(\"Welcome\",name, \"Your age is\", age, \" & you are\", profession)"
   ],
   "outputs": [],
   "metadata": {}
  },
  {
   "cell_type": "code",
   "execution_count": 27,
   "source": [
    "Welcome(\"Sumaya!\",9, \"a Student\")"
   ],
   "outputs": [
    {
     "output_type": "stream",
     "name": "stdout",
     "text": [
      "Welcome Sumaya! Your age is 9  & you are a Student\n"
     ]
    }
   ],
   "metadata": {}
  },
  {
   "cell_type": "code",
   "execution_count": 38,
   "source": [
    "def Akiboj(name, age=9):\r\n",
    "    print(f\"Hello {name}! \\n Toi Akta Boderlada! \\n your age is {age}\")"
   ],
   "outputs": [],
   "metadata": {}
  },
  {
   "cell_type": "code",
   "execution_count": null,
   "source": [
    "Akiboj(\"Akida\")"
   ],
   "outputs": [
    {
     "output_type": "stream",
     "name": "stdout",
     "text": [
      "Hello Akida Toi Akta Boderlada\n"
     ]
    }
   ],
   "metadata": {}
  },
  {
   "cell_type": "code",
   "execution_count": null,
   "source": [
    "Akiboj(\"Bojroshakti.\")"
   ],
   "outputs": [
    {
     "output_type": "stream",
     "name": "stdout",
     "text": [
      "Hello Bojroshakti. Toi Akta Boderlada\n"
     ]
    }
   ],
   "metadata": {}
  },
  {
   "cell_type": "code",
   "execution_count": null,
   "source": [
    "Akiboj(\"Akida.\", \"Valo manush\")"
   ],
   "outputs": [
    {
     "output_type": "stream",
     "name": "stdout",
     "text": [
      "Hello Akida. Toi Akta Valo manush\n"
     ]
    }
   ],
   "metadata": {}
  },
  {
   "cell_type": "code",
   "execution_count": 39,
   "source": [
    "Akiboj(\"Bajro\")"
   ],
   "outputs": [
    {
     "output_type": "stream",
     "name": "stdout",
     "text": [
      "Hello Bajro! \n",
      " Toi Akta Boderlada! \n",
      " your age is 9\n"
     ]
    }
   ],
   "metadata": {}
  },
  {
   "cell_type": "markdown",
   "source": [
    "# iterable arguments"
   ],
   "metadata": {}
  },
  {
   "cell_type": "code",
   "execution_count": 47,
   "source": [
    "def Welcome(names):\r\n",
    "    for name in names:\r\n",
    "        print(f\"Welcome {name}\")"
   ],
   "outputs": [],
   "metadata": {}
  },
  {
   "cell_type": "code",
   "execution_count": 48,
   "source": [
    "[\"Welcome([\"Akram\",\"Minara\",\"Akida\",\"Bajro\"])"
   ],
   "outputs": [
    {
     "output_type": "stream",
     "name": "stdout",
     "text": [
      "Welcome Akram\n",
      "Welcome Minara\n",
      "Welcome Akida\n",
      "Welcome Bajro\n"
     ]
    }
   ],
   "metadata": {}
  },
  {
   "cell_type": "markdown",
   "source": [
    "# Daynamic arguments"
   ],
   "metadata": {}
  },
  {
   "cell_type": "code",
   "execution_count": 49,
   "source": [
    "def Welcome(*names):\r\n",
    "    for name in (names):\r\n",
    "        print(f\"Welcome {name}\")"
   ],
   "outputs": [],
   "metadata": {}
  },
  {
   "cell_type": "code",
   "execution_count": 50,
   "source": [
    "Welcome(\"Akram\",\"Minara\",\"Akida\",\"Bajro\"\r\n",
    ")"
   ],
   "outputs": [
    {
     "output_type": "stream",
     "name": "stdout",
     "text": [
      "Welcome Akram\n",
      "Welcome Minara\n",
      "Welcome Akida\n",
      "Welcome Bajro\n"
     ]
    }
   ],
   "metadata": {}
  },
  {
   "cell_type": "code",
   "execution_count": 20,
   "source": [
    "def create_new_account(name,age,gender):\r\n",
    "    print(\"Your Account Created Successfully\")\r\n",
    "    print(f\"Name: {name}\")\r\n",
    "    print(f\"Age: {age}\")\r\n",
    "    print(f\"Gender:{gender}\")"
   ],
   "outputs": [],
   "metadata": {}
  },
  {
   "cell_type": "code",
   "execution_count": 6,
   "source": [
    "create_new_account(\"Akram\",38,\"Male\")"
   ],
   "outputs": [
    {
     "output_type": "stream",
     "name": "stdout",
     "text": [
      "Your Account Created Successfully\n",
      "Name: Akram\n",
      "Age: 38\n",
      "Gender:Male\n"
     ]
    }
   ],
   "metadata": {}
  },
  {
   "cell_type": "code",
   "execution_count": 3,
   "source": [
    "create_new_account(\"Akida\",9,\"Female\")"
   ],
   "outputs": [
    {
     "output_type": "stream",
     "name": "stdout",
     "text": [
      "Your Account Created Successfully\n",
      "Name: Akida\n",
      "Age: 9\n",
      "Gender:Female\n"
     ]
    }
   ],
   "metadata": {}
  },
  {
   "cell_type": "code",
   "execution_count": 23,
   "source": [
    "names=(\"Akram\",\"Akida\")\r\n",
    "ages=(38,9)\r\n",
    "genders=(\"Male\",\"Female\")\r\n",
    "\r\n",
    "for index in range(len(names)):\r\n",
    "    create_new_account(names[index],ages[index],genders[index])"
   ],
   "outputs": [
    {
     "output_type": "stream",
     "name": "stdout",
     "text": [
      "Your Account Created Successfully\n",
      "Name: Akram\n",
      "Age: 38\n",
      "Gender:Male\n",
      "Your Account Created Successfully\n",
      "Name: Akida\n",
      "Age: 9\n",
      "Gender:Female\n"
     ]
    }
   ],
   "metadata": {}
  },
  {
   "cell_type": "code",
   "execution_count": 17,
   "source": [
    "def create_new_account(names,ages,genders):\r\n",
    "    for name,age,gender in zip(names,ages,genders):\r\n",
    "        print(\"Your Account Created Successfully\")\r\n",
    "        print(f\"Name: {name}\")\r\n",
    "        print(f\"Age: {age}\")\r\n",
    "        print(f\"Gender:{gender}\")"
   ],
   "outputs": [],
   "metadata": {}
  },
  {
   "cell_type": "code",
   "execution_count": 18,
   "source": [
    "create_new_account((\"Akram\",\"Akida\"),(38,9),(\"Male\",\"Female\"))"
   ],
   "outputs": [
    {
     "output_type": "stream",
     "name": "stdout",
     "text": [
      "Your Account Created Successfully\n",
      "Name: Akram\n",
      "Age: 38\n",
      "Gender:Male\n",
      "Your Account Created Successfully\n",
      "Name: Akida\n",
      "Age: 9\n",
      "Gender:Female\n"
     ]
    }
   ],
   "metadata": {}
  },
  {
   "cell_type": "markdown",
   "source": [
    "# Keyword Arguments"
   ],
   "metadata": {}
  },
  {
   "cell_type": "code",
   "execution_count": 24,
   "source": [
    "def create_new_account(**kwargs):\r\n",
    "    print(\"Your Account Created Successfully\")\r\n",
    "    print(f\"Name: \",kwargs[\"name\"])\r\n",
    "    print(f\"Age: \",kwargs[\"age\"])\r\n",
    "    print(f\"Gender: \",kwargs[\"gender\"])  "
   ],
   "outputs": [],
   "metadata": {}
  },
  {
   "cell_type": "code",
   "execution_count": 25,
   "source": [
    "create_new_account(name=\"Akram\",age=38,gender=\"Male\")"
   ],
   "outputs": [
    {
     "output_type": "stream",
     "name": "stdout",
     "text": [
      "Your Account Created Successfully\n",
      "Name:  Akram\n",
      "Age:  38\n",
      "Gender:  Male\n"
     ]
    }
   ],
   "metadata": {}
  },
  {
   "cell_type": "code",
   "execution_count": 27,
   "source": [
    "def create_new_account(**kwargs):\r\n",
    "    for key, value in kwargs.items():\r\n",
    "        print(key,\":\",value)"
   ],
   "outputs": [],
   "metadata": {}
  },
  {
   "cell_type": "code",
   "execution_count": null,
   "source": [
    "create_new_account(names=\"Hasinur\",age=38,genders=\"Male\")"
   ],
   "outputs": [],
   "metadata": {}
  }
 ],
 "metadata": {
  "orig_nbformat": 4,
  "language_info": {
   "name": "python",
   "version": "3.9.5",
   "mimetype": "text/x-python",
   "codemirror_mode": {
    "name": "ipython",
    "version": 3
   },
   "pygments_lexer": "ipython3",
   "nbconvert_exporter": "python",
   "file_extension": ".py"
  },
  "kernelspec": {
   "name": "python3",
   "display_name": "Python 3.9.5 64-bit"
  },
  "interpreter": {
   "hash": "8eb4c9acf7a25b0e80bae40ec03666a154f5b7367984aed3a4ed6f85d7d601bd"
  }
 },
 "nbformat": 4,
 "nbformat_minor": 2
}