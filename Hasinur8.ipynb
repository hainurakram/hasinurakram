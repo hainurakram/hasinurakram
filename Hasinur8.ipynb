{
 "cells": [
  {
   "cell_type": "markdown",
   "source": [
    "# List Comprehension"
   ],
   "metadata": {}
  },
  {
   "cell_type": "code",
   "execution_count": 24,
   "source": [
    "list1 = []\r\n",
    "for i in range(1,11):\r\n",
    "    list1.append(i)\r\n",
    "list1"
   ],
   "outputs": [
    {
     "output_type": "execute_result",
     "data": {
      "text/plain": [
       "[1, 2, 3, 4, 5, 6, 7, 8, 9, 10]"
      ]
     },
     "metadata": {},
     "execution_count": 24
    }
   ],
   "metadata": {}
  },
  {
   "cell_type": "code",
   "execution_count": 25,
   "source": [
    "list2 = [num for num in range(1,11)]\r\n",
    "list2"
   ],
   "outputs": [
    {
     "output_type": "execute_result",
     "data": {
      "text/plain": [
       "[1, 2, 3, 4, 5, 6, 7, 8, 9, 10]"
      ]
     },
     "metadata": {},
     "execution_count": 25
    }
   ],
   "metadata": {}
  },
  {
   "cell_type": "code",
   "execution_count": 26,
   "source": [
    "list3 = []\r\n",
    "for num in range(1,11):\r\n",
    "    if num%2 == 0:\r\n",
    "        list3.append(num)\r\n",
    "list3"
   ],
   "outputs": [
    {
     "output_type": "execute_result",
     "data": {
      "text/plain": [
       "[2, 4, 6, 8, 10]"
      ]
     },
     "metadata": {},
     "execution_count": 26
    }
   ],
   "metadata": {}
  },
  {
   "cell_type": "code",
   "execution_count": 27,
   "source": [
    "list4 = [num if num%2==0 else 0 for num in range(1,11) ]\r\n",
    "list4"
   ],
   "outputs": [
    {
     "output_type": "execute_result",
     "data": {
      "text/plain": [
       "[0, 2, 0, 4, 0, 6, 0, 8, 0, 10]"
      ]
     },
     "metadata": {},
     "execution_count": 27
    }
   ],
   "metadata": {}
  },
  {
   "cell_type": "markdown",
   "source": [
    "# Error Handeling:"
   ],
   "metadata": {}
  },
  {
   "cell_type": "code",
   "execution_count": null,
   "source": [],
   "outputs": [],
   "metadata": {}
  },
  {
   "cell_type": "markdown",
   "source": [
    "# File Handeling\r\n",
    "## Creating a file\r\n",
    "## Opening file\r\n",
    "## Closing file"
   ],
   "metadata": {}
  },
  {
   "cell_type": "code",
   "execution_count": 28,
   "source": [
    "file = open(\"file.txt\", mode=\"w\")\r\n",
    "file.write(\"my First line\")\r\n",
    "file.close()"
   ],
   "outputs": [],
   "metadata": {}
  },
  {
   "cell_type": "markdown",
   "source": [
    "## Reading the File"
   ],
   "metadata": {}
  },
  {
   "cell_type": "code",
   "execution_count": 29,
   "source": [
    "file = open(\"file.txt\", mode=\"r\")\r\n",
    "data = file.read()\r\n",
    "file.close()\r\n",
    "data"
   ],
   "outputs": [
    {
     "output_type": "execute_result",
     "data": {
      "text/plain": [
       "'my First line'"
      ]
     },
     "metadata": {},
     "execution_count": 29
    }
   ],
   "metadata": {}
  },
  {
   "cell_type": "markdown",
   "source": [
    "## Append File"
   ],
   "metadata": {}
  },
  {
   "cell_type": "code",
   "execution_count": 30,
   "source": [
    "file = open(\"file.txt\", mode=\"a\")\r\n",
    "file.write(\"\\niew iefe eiff ke\")\r\n",
    "file.close()"
   ],
   "outputs": [],
   "metadata": {}
  },
  {
   "cell_type": "code",
   "execution_count": 31,
   "source": [
    "file = open(\"file.txt\", mode=\"a\")\r\n",
    "file.write(\"\\niew iefe eiff ke\")\r\n",
    "file.writelines([\"\\nPython\", \"\\nJave\", \"\\nC++\"])\r\n",
    "file.close()"
   ],
   "outputs": [],
   "metadata": {}
  },
  {
   "cell_type": "code",
   "execution_count": 32,
   "source": [
    "file = open(\"file.txt\", mode=\"r\")\r\n",
    "data = file.readlines()\r\n",
    "file.close()\r\n",
    "data"
   ],
   "outputs": [
    {
     "output_type": "execute_result",
     "data": {
      "text/plain": [
       "['my First line\\n',\n",
       " 'iew iefe eiff ke\\n',\n",
       " 'iew iefe eiff ke\\n',\n",
       " 'Python\\n',\n",
       " 'Jave\\n',\n",
       " 'C++']"
      ]
     },
     "metadata": {},
     "execution_count": 32
    }
   ],
   "metadata": {}
  },
  {
   "cell_type": "code",
   "execution_count": 33,
   "source": [
    "with open(\"file.txt\", mode=\"r\") as file:\r\n",
    "    data = file.readlines()\r\n",
    "    \r\n",
    "data\r\n"
   ],
   "outputs": [
    {
     "output_type": "execute_result",
     "data": {
      "text/plain": [
       "['my First line\\n',\n",
       " 'iew iefe eiff ke\\n',\n",
       " 'iew iefe eiff ke\\n',\n",
       " 'Python\\n',\n",
       " 'Jave\\n',\n",
       " 'C++']"
      ]
     },
     "metadata": {},
     "execution_count": 33
    }
   ],
   "metadata": {}
  },
  {
   "cell_type": "code",
   "execution_count": 34,
   "source": [
    "for line in data:\r\n",
    "    print(line.replace('\\n',''))"
   ],
   "outputs": [
    {
     "output_type": "stream",
     "name": "stdout",
     "text": [
      "my First line\n",
      "iew iefe eiff ke\n",
      "iew iefe eiff ke\n",
      "Python\n",
      "Jave\n",
      "C++\n"
     ]
    }
   ],
   "metadata": {}
  },
  {
   "cell_type": "code",
   "execution_count": 37,
   "source": [
    "with open(\"file.txt\", mode=\"r\") as file:\r\n",
    "    file.seek(5)\r\n",
    "    data = file.readlines()\r\n",
    "    \r\n",
    "data\r\n"
   ],
   "outputs": [
    {
     "data": {
      "text/plain": [
       "['rst line\\n',\n",
       " 'iew iefe eiff ke\\n',\n",
       " 'iew iefe eiff ke\\n',\n",
       " 'Python\\n',\n",
       " 'Jave\\n',\n",
       " 'C++']"
      ]
     },
     "metadata": {},
     "output_type": "display_data"
    }
   ],
   "metadata": {}
  },
  {
   "cell_type": "markdown",
   "source": [
    "## File read & write:"
   ],
   "metadata": {}
  },
  {
   "cell_type": "code",
   "execution_count": 42,
   "source": [
    "with open(\"file.txt\", mode=\"r+\") as file:\r\n",
    "    data = file.readlines()\r\n",
    "    file.write(\"klie ierek ijflksjf ifjkldfn fkndslk i9f ijflsdkuf o fio sd9u osu fo9f9uf9o fo9 9fu po 09 f\")\r\n",
    "data"
   ],
   "outputs": [
    {
     "output_type": "execute_result",
     "data": {
      "text/plain": [
       "['my First line\\n',\n",
       " 'iew iefe eiff ke\\n',\n",
       " 'iew iefe eiff ke\\n',\n",
       " 'Python\\n',\n",
       " 'Jave\\n',\n",
       " 'C++klie ierek ijflksjf ifjkldfn fkndslk i9f ijflsdkuf o fio sd9u osu fo9f9uf9o fo9 9fu po 09 fklie ierek ijflksjf ifjkldfn fkndslk i9f ijflsdkuf o fio sd9u osu fo9f9uf9o fo9 9fu po 09 fklie ierek ijflksjf ifjkldfn fkndslk i9f ijflsdkuf o fio sd9u osu fo9f9uf9o fo9 9fu po 09 f']"
      ]
     },
     "metadata": {},
     "execution_count": 42
    }
   ],
   "metadata": {}
  },
  {
   "cell_type": "markdown",
   "source": [
    "## Delete a line from File:"
   ],
   "metadata": {}
  },
  {
   "cell_type": "code",
   "execution_count": 48,
   "source": [
    "with open(\"file.txt\", mode=\"r\") as file:\r\n",
    "    data = file.readlines()\r\n",
    "    del data[2]\r\n",
    "    with open(\"file.txt\", mode=\"w\") as file:\r\n",
    "        file.writelines(data)\r\n",
    "    "
   ],
   "outputs": [],
   "metadata": {}
  }
 ],
 "metadata": {
  "orig_nbformat": 4,
  "language_info": {
   "name": "python",
   "version": "3.9.5",
   "mimetype": "text/x-python",
   "codemirror_mode": {
    "name": "ipython",
    "version": 3
   },
   "pygments_lexer": "ipython3",
   "nbconvert_exporter": "python",
   "file_extension": ".py"
  },
  "kernelspec": {
   "name": "python3",
   "display_name": "Python 3.9.5 64-bit"
  },
  "interpreter": {
   "hash": "8eb4c9acf7a25b0e80bae40ec03666a154f5b7367984aed3a4ed6f85d7d601bd"
  }
 },
 "nbformat": 4,
 "nbformat_minor": 2
}