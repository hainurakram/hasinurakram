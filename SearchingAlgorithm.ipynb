{
 "cells": [
  {
   "cell_type": "markdown",
   "source": [
    "# Linear Search:"
   ],
   "metadata": {}
  },
  {
   "cell_type": "code",
   "execution_count": 2,
   "source": [
    "def linear_search(L, x):\r\n",
    "    n = len(L)\r\n",
    "    i = 0\r\n",
    "\r\n",
    "    while i < n:\r\n",
    "        if L[i] == x:\r\n",
    "            return i\r\n",
    "        i += 1\r\n",
    "    i = -1\r\n",
    "    return i"
   ],
   "outputs": [],
   "metadata": {}
  },
  {
   "cell_type": "code",
   "execution_count": 9,
   "source": [
    "def linear_search(L, x):\r\n",
    "    n = len(L)\r\n",
    "\r\n",
    "    for i in range(n):\r\n",
    "        if L[i] == x:\r\n",
    "            return i\r\n",
    "    return -1"
   ],
   "outputs": [],
   "metadata": {}
  },
  {
   "cell_type": "code",
   "execution_count": 10,
   "source": [
    "L = [1,2,3,4,56,6,7,8,95,6,5]\r\n",
    "x = 99\r\n",
    "print(x)"
   ],
   "outputs": [
    {
     "output_type": "stream",
     "name": "stdout",
     "text": [
      "99\n"
     ]
    }
   ],
   "metadata": {}
  },
  {
   "cell_type": "markdown",
   "source": [
    "# Binary Search:"
   ],
   "metadata": {}
  },
  {
   "cell_type": "code",
   "execution_count": null,
   "source": [
    "def binary_search(L, x):\r\n",
    "    left, right = 0, len(L)-1\r\n",
    "\r\n",
    "    while left <= right:\r\n",
    "        mid = (left + right)//2\r\n",
    "        if L[mid] == x:\r\n",
    "            return mid\r\n",
    "        if L[mid] < x:\r\n",
    "            left = mid + 1\r\n",
    "        else:\r\n",
    "            right = mid - 1\r\n",
    "    return -1"
   ],
   "outputs": [],
   "metadata": {}
  },
  {
   "cell_type": "code",
   "execution_count": 15,
   "source": [
    "if __name__ == \"__main__\":\r\n",
    "    L =[1,2,3,4,5,6,7,8,9,10]\r\n",
    "    for x in range(1, 11):\r\n",
    "        position = binary_search(L, x)\r\n",
    "        if position == -1:\r\n",
    "            if x in L:\r\n",
    "                print(x, \"is in L, but function retuned -1\")\r\n",
    "            else:\r\n",
    "                print(x, \"not in list\")\r\n",
    "        else:\r\n",
    "            if L[position] == x:\r\n",
    "                print(x, \"fiund in correct position.\")\r\n",
    "            else:\r\n",
    "                print(\"binary search returned\", position,\"for\", x,\"which is incorrect\")\r\n",
    "print(\"prigram terminated\")"
   ],
   "outputs": [
    {
     "output_type": "error",
     "ename": "NameError",
     "evalue": "name 'binary_search' is not defined",
     "traceback": [
      "\u001b[1;31m---------------------------------------------------------------------------\u001b[0m",
      "\u001b[1;31mNameError\u001b[0m                                 Traceback (most recent call last)",
      "\u001b[1;32m~\\AppData\\Local\\Temp/ipykernel_7768/3307378297.py\u001b[0m in \u001b[0;36m<module>\u001b[1;34m\u001b[0m\n\u001b[0;32m      2\u001b[0m     \u001b[0mL\u001b[0m \u001b[1;33m=\u001b[0m\u001b[1;33m[\u001b[0m\u001b[1;36m1\u001b[0m\u001b[1;33m,\u001b[0m\u001b[1;36m2\u001b[0m\u001b[1;33m,\u001b[0m\u001b[1;36m3\u001b[0m\u001b[1;33m,\u001b[0m\u001b[1;36m4\u001b[0m\u001b[1;33m,\u001b[0m\u001b[1;36m5\u001b[0m\u001b[1;33m,\u001b[0m\u001b[1;36m6\u001b[0m\u001b[1;33m,\u001b[0m\u001b[1;36m7\u001b[0m\u001b[1;33m,\u001b[0m\u001b[1;36m8\u001b[0m\u001b[1;33m,\u001b[0m\u001b[1;36m9\u001b[0m\u001b[1;33m,\u001b[0m\u001b[1;36m10\u001b[0m\u001b[1;33m]\u001b[0m\u001b[1;33m\u001b[0m\u001b[1;33m\u001b[0m\u001b[0m\n\u001b[0;32m      3\u001b[0m     \u001b[1;32mfor\u001b[0m \u001b[0mx\u001b[0m \u001b[1;32min\u001b[0m \u001b[0mrange\u001b[0m\u001b[1;33m(\u001b[0m\u001b[1;36m1\u001b[0m\u001b[1;33m,\u001b[0m \u001b[1;36m11\u001b[0m\u001b[1;33m)\u001b[0m\u001b[1;33m:\u001b[0m\u001b[1;33m\u001b[0m\u001b[1;33m\u001b[0m\u001b[0m\n\u001b[1;32m----> 4\u001b[1;33m         \u001b[0mposition\u001b[0m \u001b[1;33m=\u001b[0m \u001b[0mbinary_search\u001b[0m\u001b[1;33m(\u001b[0m\u001b[0ml\u001b[0m\u001b[1;33m,\u001b[0m \u001b[0mx\u001b[0m\u001b[1;33m)\u001b[0m\u001b[1;33m\u001b[0m\u001b[1;33m\u001b[0m\u001b[0m\n\u001b[0m\u001b[0;32m      5\u001b[0m         \u001b[1;32mif\u001b[0m \u001b[0mposition\u001b[0m \u001b[1;33m==\u001b[0m \u001b[1;33m-\u001b[0m\u001b[1;36m1\u001b[0m\u001b[1;33m:\u001b[0m\u001b[1;33m\u001b[0m\u001b[1;33m\u001b[0m\u001b[0m\n\u001b[0;32m      6\u001b[0m             \u001b[1;32mif\u001b[0m \u001b[0mx\u001b[0m \u001b[1;32min\u001b[0m \u001b[0mL\u001b[0m\u001b[1;33m:\u001b[0m\u001b[1;33m\u001b[0m\u001b[1;33m\u001b[0m\u001b[0m\n",
      "\u001b[1;31mNameError\u001b[0m: name 'binary_search' is not defined"
     ]
    }
   ],
   "metadata": {}
  },
  {
   "cell_type": "markdown",
   "source": [
    "#"
   ],
   "metadata": {}
  }
 ],
 "metadata": {
  "orig_nbformat": 4,
  "language_info": {
   "name": "python",
   "version": "3.9.5",
   "mimetype": "text/x-python",
   "codemirror_mode": {
    "name": "ipython",
    "version": 3
   },
   "pygments_lexer": "ipython3",
   "nbconvert_exporter": "python",
   "file_extension": ".py"
  },
  "kernelspec": {
   "name": "python3",
   "display_name": "Python 3.9.5 64-bit"
  },
  "interpreter": {
   "hash": "8eb4c9acf7a25b0e80bae40ec03666a154f5b7367984aed3a4ed6f85d7d601bd"
  }
 },
 "nbformat": 4,
 "nbformat_minor": 2
}